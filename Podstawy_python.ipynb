{
 "cells": [
  {
   "cell_type": "markdown",
   "id": "92c54b40",
   "metadata": {},
   "source": [
    "## Zad. 1"
   ]
  },
  {
   "cell_type": "code",
   "execution_count": 1,
   "id": "22267b77",
   "metadata": {},
   "outputs": [],
   "source": [
    "def check_range(x, y, z):\n",
    "\n",
    "  if x > y and x < z:\n",
    "    return(\"Number {} is between {} and {}.\".format(x, y, z))\n",
    "  else:\n",
    "    return(\"Number {} is NOT between {} and {}.\".format(x, y, z))"
   ]
  },
  {
   "cell_type": "code",
   "execution_count": 2,
   "id": "1e52334e",
   "metadata": {},
   "outputs": [
    {
     "data": {
      "text/plain": [
       "'Number 34 is between 9 and 228.'"
      ]
     },
     "execution_count": 2,
     "metadata": {},
     "output_type": "execute_result"
    }
   ],
   "source": [
    "check_range(34, 9, 228)"
   ]
  },
  {
   "cell_type": "code",
   "execution_count": 3,
   "id": "3df4b508",
   "metadata": {},
   "outputs": [
    {
     "data": {
      "text/plain": [
       "'Number 7 is NOT between 2 and 5.'"
      ]
     },
     "execution_count": 3,
     "metadata": {},
     "output_type": "execute_result"
    }
   ],
   "source": [
    "check_range(7, 2, 5)"
   ]
  },
  {
   "cell_type": "code",
   "execution_count": 4,
   "id": "680017e1",
   "metadata": {},
   "outputs": [],
   "source": [
    "def bool_range(x, y, z):\n",
    "\n",
    "  if x > y and x < z:\n",
    "    return(True)\n",
    "  else:\n",
    "    return(False)"
   ]
  },
  {
   "cell_type": "code",
   "execution_count": 5,
   "id": "ee99254d",
   "metadata": {},
   "outputs": [
    {
     "data": {
      "text/plain": [
       "True"
      ]
     },
     "execution_count": 5,
     "metadata": {},
     "output_type": "execute_result"
    }
   ],
   "source": [
    "bool_range(7, 5, 20)"
   ]
  },
  {
   "cell_type": "code",
   "execution_count": 6,
   "id": "3f9c35c8",
   "metadata": {},
   "outputs": [
    {
     "data": {
      "text/plain": [
       "False"
      ]
     },
     "execution_count": 6,
     "metadata": {},
     "output_type": "execute_result"
    }
   ],
   "source": [
    "bool_range(67, 22, 25)"
   ]
  },
  {
   "cell_type": "markdown",
   "id": "79e43130",
   "metadata": {},
   "source": [
    "## Zad. 2"
   ]
  },
  {
   "cell_type": "code",
   "execution_count": 7,
   "id": "b2afd868",
   "metadata": {},
   "outputs": [
    {
     "data": {
      "text/plain": [
       "{1, 2, 3, 4, 5, 6, 12, 63}"
      ]
     },
     "execution_count": 7,
     "metadata": {},
     "output_type": "execute_result"
    }
   ],
   "source": [
    "def unique_list(x):\n",
    "\n",
    "  return(set(x))\n",
    "\n",
    "my_list = [1,3,5,6,4,3,2,3,3,4,3,4,5,6,6,4,3,2,12,3,5,63,4,5,3,3,2]\n",
    "\n",
    "unique_list(my_list)"
   ]
  },
  {
   "cell_type": "code",
   "execution_count": 8,
   "id": "eb126558",
   "metadata": {},
   "outputs": [
    {
     "data": {
      "text/plain": [
       "{1, 2, 3, 4, 5, 6, 12, 63}"
      ]
     },
     "execution_count": 8,
     "metadata": {},
     "output_type": "execute_result"
    }
   ],
   "source": [
    "my_list = set(my_list)\n",
    "my_list"
   ]
  },
  {
   "cell_type": "markdown",
   "id": "68f4e468",
   "metadata": {},
   "source": [
    "## Zad. 3"
   ]
  },
  {
   "cell_type": "code",
   "execution_count": 9,
   "id": "2d52e351",
   "metadata": {},
   "outputs": [
    {
     "data": {
      "text/plain": [
       "33.49"
      ]
     },
     "execution_count": 9,
     "metadata": {},
     "output_type": "execute_result"
    }
   ],
   "source": [
    "def obj_kuli(r, x=4/3, pi=3.14):\n",
    "  volume_of_sphere = x*pi*r**3\n",
    "  return round(volume_of_sphere, 2)\n",
    "\n",
    "obj_kuli(2)"
   ]
  },
  {
   "cell_type": "code",
   "execution_count": 10,
   "id": "ad4eca48",
   "metadata": {},
   "outputs": [
    {
     "data": {
      "text/plain": [
       "696.56"
      ]
     },
     "execution_count": 10,
     "metadata": {},
     "output_type": "execute_result"
    }
   ],
   "source": [
    "obj_kuli(5.5)"
   ]
  },
  {
   "cell_type": "markdown",
   "id": "dc3dc654",
   "metadata": {},
   "source": [
    "## Zad. 4"
   ]
  },
  {
   "cell_type": "code",
   "execution_count": 11,
   "id": "ed2b5214",
   "metadata": {},
   "outputs": [
    {
     "data": {
      "text/plain": [
       "3628800"
      ]
     },
     "execution_count": 11,
     "metadata": {},
     "output_type": "execute_result"
    }
   ],
   "source": [
    "def num_fact(n):\n",
    "  s = 1\n",
    "  for i in range(1, n+1):\n",
    "    s *= i\n",
    "  return s\n",
    "\n",
    "num_fact(10)"
   ]
  },
  {
   "cell_type": "code",
   "execution_count": 12,
   "id": "48930071",
   "metadata": {},
   "outputs": [
    {
     "data": {
      "text/plain": [
       "479001600"
      ]
     },
     "execution_count": 12,
     "metadata": {},
     "output_type": "execute_result"
    }
   ],
   "source": [
    "num_fact(12)"
   ]
  },
  {
   "cell_type": "code",
   "execution_count": 13,
   "id": "b241e801",
   "metadata": {},
   "outputs": [
    {
     "data": {
      "text/plain": [
       "720"
      ]
     },
     "execution_count": 13,
     "metadata": {},
     "output_type": "execute_result"
    }
   ],
   "source": [
    "num_fact(6)"
   ]
  },
  {
   "cell_type": "code",
   "execution_count": null,
   "id": "0a5eee2b",
   "metadata": {},
   "outputs": [],
   "source": []
  }
 ],
 "metadata": {
  "kernelspec": {
   "display_name": "Python 3 (ipykernel)",
   "language": "python",
   "name": "python3"
  },
  "language_info": {
   "codemirror_mode": {
    "name": "ipython",
    "version": 3
   },
   "file_extension": ".py",
   "mimetype": "text/x-python",
   "name": "python",
   "nbconvert_exporter": "python",
   "pygments_lexer": "ipython3",
   "version": "3.9.12"
  }
 },
 "nbformat": 4,
 "nbformat_minor": 5
}
