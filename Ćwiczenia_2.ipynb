{
 "cells": [
  {
   "cell_type": "markdown",
   "id": "62aabde5",
   "metadata": {},
   "source": [
    "## Zad. 1"
   ]
  },
  {
   "cell_type": "code",
   "execution_count": 20,
   "id": "660b9458",
   "metadata": {},
   "outputs": [
    {
     "name": "stdout",
     "output_type": "stream",
     "text": [
      "Wylosowana liczba wyrazów ciągu: 15\n",
      "0\n",
      "0\n",
      "0\n",
      "0\n",
      "1\n",
      "1\n",
      "2\n",
      "4\n",
      "8\n",
      "15\n",
      "29\n",
      "56\n",
      "108\n",
      "208\n",
      "401\n"
     ]
    }
   ],
   "source": [
    "import random\n",
    "\n",
    "class Tetranacci:\n",
    "    def __init__(self, steps):\n",
    "        self.steps = steps\n",
    "        self.counter = 0\n",
    "        self.values = [0, 0, 0, 1]\n",
    "\n",
    "    def __iter__(self):\n",
    "        return self\n",
    "\n",
    "    def __next__(self):\n",
    "        if self.counter < self.steps:\n",
    "            self.counter += 1\n",
    "            if self.counter < 4:\n",
    "                return self.values[self.counter-1]\n",
    "            else:\n",
    "                next_value = sum(self.values)\n",
    "                self.values = self.values[1:] + [next_value]\n",
    "                return next_value\n",
    "        else:\n",
    "            raise StopIteration\n",
    "\n",
    "def cache(fn):\n",
    "    cache_dict = {}\n",
    "\n",
    "    def wrapper(*args):\n",
    "        if args in cache_dict:\n",
    "            return cache_dict[args]\n",
    "        result = fn(*args)\n",
    "        cache_dict[args] = result\n",
    "        return result\n",
    "\n",
    "    return wrapper\n",
    "\n",
    "\n",
    "@cache\n",
    "def tetranacci(n):\n",
    "    if n <= 3:\n",
    "        return 0\n",
    "    elif n == 4:\n",
    "        return 1\n",
    "    else:\n",
    "        return tetranacci(n - 1) + tetranacci(n - 2) + tetranacci(n - 3) + tetranacci(n - 4)\n",
    "\n",
    "\n",
    "sequence = random.randint(3, 16)\n",
    "print(f\"Wylosowana liczba wyrazów ciągu: {sequence}\")\n",
    "\n",
    "for n in range(sequence):\n",
    "    print(tetranacci(n))"
   ]
  },
  {
   "cell_type": "markdown",
   "id": "4ff4bf15",
   "metadata": {},
   "source": [
    "## Zad. 2"
   ]
  },
  {
   "cell_type": "code",
   "execution_count": 18,
   "id": "0634859e",
   "metadata": {},
   "outputs": [
    {
     "name": "stdout",
     "output_type": "stream",
     "text": [
      "10 10 10 10 10 \n",
      "\n",
      "5 5 5 5 5 5 5 5 5 5 5 5 5 5 5 5 5 5 5 5 5 5 5 5 5 5 5 5 5 5 5 5 5 5 5 5 5 5 "
     ]
    }
   ],
   "source": [
    "def repeat(number, count = None):\n",
    "  value = 0\n",
    "  if count == None:\n",
    "    while True:\n",
    "      yield number\n",
    "  else:\n",
    "    while value < count:\n",
    "      value +=1\n",
    "      yield number\n",
    "\n",
    "for i in repeat(10, 5):\n",
    "  print(i, end = \" \")\n",
    "print('\\n')\n",
    "for i in repeat(5, 38):\n",
    "  print(i, end = \" \")\n"
   ]
  },
  {
   "cell_type": "markdown",
   "id": "77adfeb0",
   "metadata": {},
   "source": [
    "## Zad. 3"
   ]
  },
  {
   "cell_type": "code",
   "execution_count": 17,
   "id": "249161b0",
   "metadata": {},
   "outputs": [
    {
     "name": "stdout",
     "output_type": "stream",
     "text": [
      "190 200000 Volskwagen biały\n",
      "220 80000 Audi biały\n"
     ]
    }
   ],
   "source": [
    "class Pojazd:\n",
    "    def __init__(self, predkosc_max, przebieg, nazwa_modelu, kolor='biały'):\n",
    "        self.predkosc_max = predkosc_max\n",
    "        self.przebieg = przebieg\n",
    "        self.nazwa_modelu = nazwa_modelu\n",
    "        self.kolor = kolor\n",
    "\n",
    "pojazd3 = Pojazd(190, 200000, 'Volskwagen')\n",
    "pojazd4 = Pojazd(220, 80000, 'Audi')\n",
    "print(pojazd3.predkosc_max, pojazd3.przebieg, pojazd3.nazwa_modelu, pojazd3.kolor)\n",
    "print(pojazd4.predkosc_max, pojazd4.przebieg, pojazd4.nazwa_modelu, pojazd4.kolor)"
   ]
  },
  {
   "cell_type": "markdown",
   "id": "49fa4220",
   "metadata": {},
   "source": [
    "## Zad. 4"
   ]
  },
  {
   "cell_type": "code",
   "execution_count": 16,
   "id": "c410dcd1",
   "metadata": {},
   "outputs": [
    {
     "name": "stdout",
     "output_type": "stream",
     "text": [
      "Autobus osiąga maksymalnie 100 km/h i ma przebieg 120000 km.\n",
      "Autobus pomieści 50 osób.\n",
      "Opłata wynosi 5500 zł.\n",
      "Opłata wynosi 6600 zł.\n",
      "Opłata wynosi 10780 zł.\n"
     ]
    }
   ],
   "source": [
    "class Pojazd:\n",
    "    def __init__(self, predkosc_max, przebieg, nazwa_modelu):\n",
    "        self.predkosc_max = predkosc_max\n",
    "        self.przebieg = przebieg\n",
    "        self.nazwa_modelu = nazwa_modelu\n",
    "\n",
    "    def liczba_miejsc(self, miejsca):\n",
    "        return f'{self.nazwa_modelu} pomieści {miejsca} osób.'\n",
    "\n",
    "class Autobus(Pojazd):\n",
    "\n",
    "    def liczba_miejsc(self, miejsca=50):\n",
    "        return super().liczba_miejsc(miejsca)\n",
    "\n",
    "    def oplata(self, miejsca):\n",
    "      kwota = miejsca * 100\n",
    "      if isinstance(autobus1, Pojazd):\n",
    "        kwota *= 1.1\n",
    "      else:\n",
    "        pass\n",
    "      return f'Opłata wynosi {round(kwota)} zł.'\n",
    "        \n",
    "\n",
    "autobus1 = Autobus(100, 120000, \"Autobus\")\n",
    "print(f\"{autobus1.nazwa_modelu} osiąga maksymalnie {autobus1.predkosc_max} km/h i ma przebieg {autobus1.przebieg} km.\")\n",
    "print(autobus1.liczba_miejsc())\n",
    "print(autobus1.oplata(50))\n",
    "print(autobus1.oplata(60))\n",
    "print(autobus1.oplata(98))"
   ]
  },
  {
   "cell_type": "markdown",
   "id": "ae04776c",
   "metadata": {},
   "source": [
    "## Zad. 5"
   ]
  },
  {
   "cell_type": "code",
   "execution_count": 1,
   "id": "44d36c56",
   "metadata": {},
   "outputs": [
    {
     "name": "stdout",
     "output_type": "stream",
     "text": [
      "Zapis funkcji kwadratowej: 2x^2 + 3x + 1\n",
      "\n",
      "\n",
      "y = 0\n",
      "\n",
      "\n",
      "y = 6\n",
      "\n",
      "\n",
      "Nieskończona liczba rozwiązań\n",
      "\n",
      "\n",
      "Brak rozwiązań\n",
      "\n",
      "\n",
      "Miejsce zerowe funkcji liniowej: -1.5\n",
      "\n",
      "\n",
      "Funkcja z podanymi parametrami (a = 1, b = 2, c = 3) nie ma miejsc zerowych!\n",
      "\n",
      "\n",
      "Dwa miejsca zerowe: 2.0, 3.0\n",
      "\n",
      "\n",
      "Jedno miejsce zerowe: -2.0\n"
     ]
    }
   ],
   "source": [
    "import math\n",
    "\n",
    "class FunkcjaKwadratowa:\n",
    "    def __init__(self, a, b, c):\n",
    "        self.a = a\n",
    "        self.b = b\n",
    "        self.c = c\n",
    "\n",
    "    def wypisz(self):\n",
    "        print('Zapis funkcji kwadratowej: {}x^2 + {}x + {}'.format(self.a, self.b, self.c))\n",
    "\n",
    "    def oblicz_wartosc(self, x):\n",
    "        self.x = x\n",
    "        return self.a*x**2 + self.b*x + self.c*x\n",
    "\n",
    "    def rozwiaz(self):\n",
    "\n",
    "      if self.a == 0 and self.b == 0:\n",
    "        \n",
    "        if self.c == 0:\n",
    "          return 'Nieskończona liczba rozwiązań'\n",
    "        else:\n",
    "          return 'Brak rozwiązań'\n",
    "        \n",
    "      if self.a == 0:\n",
    "        return f\"Miejsce zerowe funkcji liniowej: {-self.c/self.b}\"\n",
    "      else:\n",
    "\n",
    "        delta = self.b**2 - 4*self.a*self.c\n",
    "        \n",
    "        if delta > 0:\n",
    "          miejsce_zerowe_1 = (- self.b -math.sqrt(delta)) / 2*self.a\n",
    "          miejsce_zerowe_2 = (- self.b +math.sqrt(delta)) / 2*self.a\n",
    "          return f\"Dwa miejsca zerowe: {miejsce_zerowe_1}, {miejsce_zerowe_2}\"\n",
    "        \n",
    "        elif delta == 0:\n",
    "          miejsce_zerowe = (- self.b) / 2*self.a\n",
    "          return f\"Jedno miejsce zerowe: {miejsce_zerowe}\"\n",
    "        elif delta < 0:\n",
    "          return f'Funkcja z podanymi parametrami (a = {self.a}, b = {self.b}, c = {self.c}) nie ma miejsc zerowych!'\n",
    "\n",
    "def main():\n",
    "    f1 = FunkcjaKwadratowa(2, 3, 1)\n",
    "    f1.wypisz()\n",
    "    print('\\n')\n",
    "    print(f\"y = {f1.oblicz_wartosc(0)}\")\n",
    "    print('\\n')\n",
    "    print(f\"y = {f1.oblicz_wartosc(1)}\")\n",
    "    print('\\n')\n",
    "\n",
    "    print(FunkcjaKwadratowa(0, 0, 0).rozwiaz())\n",
    "    print('\\n')\n",
    "    print(FunkcjaKwadratowa(0, 0, 1).rozwiaz())\n",
    "    print('\\n')\n",
    "    print(FunkcjaKwadratowa(0, 2, 3).rozwiaz())\n",
    "    print('\\n')\n",
    "    print(FunkcjaKwadratowa(1, 2, 3).rozwiaz())\n",
    "    print('\\n')\n",
    "    print(FunkcjaKwadratowa(1, -5, 6).rozwiaz())\n",
    "    print('\\n')\n",
    "    print(FunkcjaKwadratowa(1, 4, 4).rozwiaz())\n",
    "\n",
    "if __name__ == \"__main__\":\n",
    "    main()"
   ]
  },
  {
   "cell_type": "code",
   "execution_count": null,
   "id": "d7e25ed6",
   "metadata": {},
   "outputs": [],
   "source": []
  }
 ],
 "metadata": {
  "kernelspec": {
   "display_name": "Python 3 (ipykernel)",
   "language": "python",
   "name": "python3"
  },
  "language_info": {
   "codemirror_mode": {
    "name": "ipython",
    "version": 3
   },
   "file_extension": ".py",
   "mimetype": "text/x-python",
   "name": "python",
   "nbconvert_exporter": "python",
   "pygments_lexer": "ipython3",
   "version": "3.9.12"
  }
 },
 "nbformat": 4,
 "nbformat_minor": 5
}
